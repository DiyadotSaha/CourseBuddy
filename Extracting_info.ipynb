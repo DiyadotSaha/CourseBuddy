{
 "cells": [
  {
   "cell_type": "code",
   "execution_count": 1,
   "id": "3c4cc83e-d16e-4fe4-b01e-1784c77c137d",
   "metadata": {},
   "outputs": [
    {
     "name": "stdout",
     "output_type": "stream",
     "text": [
      "Requirement already satisfied: requests in /opt/anaconda3/lib/python3.11/site-packages (2.31.0)\n",
      "Requirement already satisfied: beautifulsoup4 in /opt/anaconda3/lib/python3.11/site-packages (4.12.2)\n",
      "Requirement already satisfied: charset-normalizer<4,>=2 in /opt/anaconda3/lib/python3.11/site-packages (from requests) (2.0.4)\n",
      "Requirement already satisfied: idna<4,>=2.5 in /opt/anaconda3/lib/python3.11/site-packages (from requests) (3.4)\n",
      "Requirement already satisfied: urllib3<3,>=1.21.1 in /opt/anaconda3/lib/python3.11/site-packages (from requests) (2.0.7)\n",
      "Requirement already satisfied: certifi>=2017.4.17 in /opt/anaconda3/lib/python3.11/site-packages (from requests) (2024.2.2)\n",
      "Requirement already satisfied: soupsieve>1.2 in /opt/anaconda3/lib/python3.11/site-packages (from beautifulsoup4) (2.5)\n",
      "Note: you may need to restart the kernel to use updated packages.\n"
     ]
    }
   ],
   "source": [
    "pip install requests beautifulsoup4"
   ]
  },
  {
   "cell_type": "code",
   "execution_count": 4,
   "id": "cfb6e466-002e-4b0e-97b6-0d1ca6b623ea",
   "metadata": {},
   "outputs": [
    {
     "name": "stdout",
     "output_type": "stream",
     "text": [
      "Extracted info from https://catalogue.uci.edu/allcourses/compsci/\n",
      "Information extracted and saved to 'extracted_info_compsci.txt'\n",
      "Extracted info from https://catalogue.uci.edu/donaldbrenschoolofinformationandcomputersciences/departmentofcomputerscience/computerscience_bs/#sampleprogramtext\n",
      "Information extracted and saved to 'extracted_info_computerscience_bs.txt'\n",
      "Extracted info from https://catalogue.uci.edu/donaldbrenschoolofinformationandcomputersciences/departmentofcomputerscience/computerscience_bs/#requirementstext\n",
      "Information extracted and saved to 'extracted_info_computerscience_bs.txt'\n"
     ]
    }
   ],
   "source": [
    "import os\n",
    "import requests\n",
    "from bs4 import BeautifulSoup\n",
    "\n",
    "def extract_info_from_url(url):\n",
    "    response = requests.get(url)\n",
    "    if response.status_code == 200:\n",
    "        soup = BeautifulSoup(response.text, 'html.parser')\n",
    "        paragraphs = soup.find_all('p')\n",
    "        info_text = '\\n'.join(p.text for p in paragraphs)\n",
    "        return info_text\n",
    "    else:\n",
    "        print(\"Failed to retrieve data from URL:\", url)\n",
    "        return None\n",
    "\n",
    "def save_to_text_file(text, filename, folder='extracted_info'):\n",
    "    if not os.path.exists(folder):\n",
    "        os.makedirs(folder)\n",
    "    file_path = os.path.join(folder, filename)\n",
    "    with open(file_path, 'w', encoding='utf-8') as file:\n",
    "        file.write(text)\n",
    "\n",
    "if __name__ == \"__main__\":\n",
    "    list_of_URLS = [\n",
    "        'https://catalogue.uci.edu/allcourses/compsci/',\n",
    "        'https://catalogue.uci.edu/donaldbrenschoolofinformationandcomputersciences/departmentofcomputerscience/computerscience_bs/#sampleprogramtext',\n",
    "        'https://catalogue.uci.edu/donaldbrenschoolofinformationandcomputersciences/departmentofcomputerscience/computerscience_bs/#requirementstext'\n",
    "    ]\n",
    "    for url in list_of_URLS: \n",
    "        info_text = extract_info_from_url(url)\n",
    "        print(\"Extracted info from {}\".format(url))\n",
    "        if info_text:\n",
    "            file_name = 'extracted_info_{}.txt'.format(url.split('/')[-2])\n",
    "            save_to_text_file(info_text, file_name)\n",
    "            print(\"Information extracted and saved to '{}'\".format(file_name))\n"
   ]
  },
  {
   "cell_type": "code",
   "execution_count": null,
   "id": "9678f478-294d-4ada-932c-da25e933e2a8",
   "metadata": {},
   "outputs": [],
   "source": []
  }
 ],
 "metadata": {
  "kernelspec": {
   "display_name": "Python 3 (ipykernel)",
   "language": "python",
   "name": "python3"
  },
  "language_info": {
   "codemirror_mode": {
    "name": "ipython",
    "version": 3
   },
   "file_extension": ".py",
   "mimetype": "text/x-python",
   "name": "python",
   "nbconvert_exporter": "python",
   "pygments_lexer": "ipython3",
   "version": "3.11.7"
  }
 },
 "nbformat": 4,
 "nbformat_minor": 5
}
