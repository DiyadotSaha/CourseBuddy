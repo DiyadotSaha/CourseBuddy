{
 "cells": [
  {
   "cell_type": "code",
   "execution_count": 1,
   "id": "5b838fd3-9127-4602-9113-56b022b64553",
   "metadata": {},
   "outputs": [],
   "source": [
    "from sentence_transformers import SentenceTransformer\n",
    "from langchain.vectorstores import FAISS\n",
    "from langchain_community.embeddings import HuggingFaceEmbeddings"
   ]
  },
  {
   "cell_type": "code",
   "execution_count": 2,
   "id": "e8bf6d4d-6c5f-4b28-b272-e1b28cdc589d",
   "metadata": {},
   "outputs": [
    {
     "name": "stderr",
     "output_type": "stream",
     "text": [
      "/opt/anaconda3/lib/python3.11/site-packages/huggingface_hub/file_download.py:1132: FutureWarning: `resume_download` is deprecated and will be removed in version 1.0.0. Downloads always resume when possible. If you want to force a new download, use `force_download=True`.\n",
      "  warnings.warn(\n",
      "/opt/anaconda3/lib/python3.11/site-packages/huggingface_hub/file_download.py:1132: FutureWarning: `resume_download` is deprecated and will be removed in version 1.0.0. Downloads always resume when possible. If you want to force a new download, use `force_download=True`.\n",
      "  warnings.warn(\n"
     ]
    },
    {
     "ename": "NameError",
     "evalue": "name 'loadVectorStore' is not defined",
     "output_type": "error",
     "traceback": [
      "\u001b[0;31m---------------------------------------------------------------------------\u001b[0m",
      "\u001b[0;31mNameError\u001b[0m                                 Traceback (most recent call last)",
      "Cell \u001b[0;32mIn[2], line 5\u001b[0m\n\u001b[1;32m      2\u001b[0m query_model \u001b[38;5;241m=\u001b[39m HuggingFaceEmbeddings(model_name\u001b[38;5;241m=\u001b[39m\u001b[38;5;124m'\u001b[39m\u001b[38;5;124mWhereIsAI/UAE-Large-V1\u001b[39m\u001b[38;5;124m'\u001b[39m)\n\u001b[1;32m      4\u001b[0m \u001b[38;5;66;03m# Load the vector database\u001b[39;00m\n\u001b[0;32m----> 5\u001b[0m vectorstore \u001b[38;5;241m=\u001b[39m loadVectorStore()\n\u001b[1;32m      7\u001b[0m \u001b[38;5;66;03m# Encode the query\u001b[39;00m\n\u001b[1;32m      8\u001b[0m query_text \u001b[38;5;241m=\u001b[39m \u001b[38;5;124m\"\u001b[39m\u001b[38;5;124mWhat is the impact of AI on society?\u001b[39m\u001b[38;5;124m\"\u001b[39m\n",
      "\u001b[0;31mNameError\u001b[0m: name 'loadVectorStore' is not defined"
     ]
    }
   ],
   "source": [
    "query_model = HuggingFaceEmbeddings(model_name='WhereIsAI/UAE-Large-V1')\n",
    "vectorstore = loadVectorStore()\n",
    "query_text = \"What is the impact of AI on society?\"\n",
    "query_embedding = query_model.encode(query_text)\n",
    "\n",
    "top_k = 5  # Number of similar documents to retrieve\n",
    "similar_documents = vectorstore.search(query_embedding, top_k=top_k)\n",
    "\n",
    "# Process the results\n",
    "for score, document_index in similar_documents:\n",
    "    # Retrieve document information based on the index\n",
    "    document_info = vectorstore.get_document_info(document_index)\n",
    "    print(f\"Similarity Score: {score}, Document Index: {document_index}, Document Info: {document_info}\")\n"
   ]
  },
  {
   "cell_type": "code",
   "execution_count": null,
   "id": "b2c81c1c-933d-4e16-94c4-5ad7efd343b2",
   "metadata": {},
   "outputs": [],
   "source": []
  }
 ],
 "metadata": {
  "kernelspec": {
   "display_name": "Python 3 (ipykernel)",
   "language": "python",
   "name": "python3"
  },
  "language_info": {
   "codemirror_mode": {
    "name": "ipython",
    "version": 3
   },
   "file_extension": ".py",
   "mimetype": "text/x-python",
   "name": "python",
   "nbconvert_exporter": "python",
   "pygments_lexer": "ipython3",
   "version": "3.11.7"
  }
 },
 "nbformat": 4,
 "nbformat_minor": 5
}
