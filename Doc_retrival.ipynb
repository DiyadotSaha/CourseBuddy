{
 "cells": [
  {
   "cell_type": "code",
   "execution_count": 3,
   "id": "5b838fd3-9127-4602-9113-56b022b64553",
   "metadata": {},
   "outputs": [],
   "source": [
    "from sentence_transformers import SentenceTransformer\n",
    "from langchain.vectorstores import FAISS\n",
    "from langchain_community.embeddings import HuggingFaceEmbeddings"
   ]
  },
  {
   "cell_type": "code",
   "execution_count": 4,
   "id": "e8bf6d4d-6c5f-4b28-b272-e1b28cdc589d",
   "metadata": {},
   "outputs": [],
   "source": [
    "def loadVectorStore():\n",
    "    final_path='faissDB'\n",
    "    embeddings=HuggingFaceEmbeddings(model_name='WhereIsAI/UAE-Large-V1')\n",
    "    vectorstore = FAISS.load_local(final_path,embeddings,allow_dangerous_deserialization=True)\n",
    "    return vectorstore\n",
    "\n",
    "vectorstore = loadVectorStore()"
   ]
  },
  {
   "cell_type": "code",
   "execution_count": 5,
   "id": "b2c81c1c-933d-4e16-94c4-5ad7efd343b2",
   "metadata": {},
   "outputs": [],
   "source": [
    "query = \"What are the different courses at UCI?\"\n",
    "docs = vectorstore.similarity_search(query)"
   ]
  },
  {
   "cell_type": "code",
   "execution_count": 6,
   "id": "1455f5a6",
   "metadata": {},
   "outputs": [
    {
     "name": "stdout",
     "output_type": "stream",
     "text": [
      "[Document(page_content='programing (python, java, C++), additional courses as specified by the major, and completion of lower-division writing. Students are encouraged to complete as many of the lower-division degree requirements as possible prior to transfer. Visit the UCI', metadata={'source': 'extracted_info/extracted_info_computerscience_bs.txt', 'doc_id': 'e377fdd2-e845-4a2e-904f-0f3a3ee44e51'}), Document(page_content='as specified by the major, and completion of lower-division writing. Students are encouraged to complete as many of the lower-division degree requirements as possible prior to transfer. Visit the UCI Office of Admissions website', metadata={'source': 'extracted_info/extracted_info_computerscience_bs.txt', 'doc_id': 'e377fdd2-e845-4a2e-904f-0f3a3ee44e51'}), Document(page_content='completion of lower-division writing. Students are encouraged to complete as many of the lower-division degree requirements as possible prior to transfer. Visit the UCI Office of Admissions website for information on transfer requirements for our major.', metadata={'source': 'extracted_info/extracted_info_computerscience_bs.txt', 'doc_id': 'aca0ffb9-f0a2-4710-a1d6-55cbe859a978'}), Document(page_content='prerequisites will be given preference for admission. All applicants must complete the following required courses: one year of approved calculus, one year of object-oriented programing (python, java, C++), additional courses as specified by the major, and', metadata={'source': 'extracted_info/extracted_info_computerscience_bs.txt', 'doc_id': 'e377fdd2-e845-4a2e-904f-0f3a3ee44e51'})]\n"
     ]
    }
   ],
   "source": [
    "print(docs)"
   ]
  },
  {
   "cell_type": "code",
   "execution_count": null,
   "id": "7d2322f6-9394-4970-abd1-8e3ab5ade845",
   "metadata": {},
   "outputs": [],
   "source": []
  }
 ],
 "metadata": {
  "kernelspec": {
   "display_name": "Python 3 (ipykernel)",
   "language": "python",
   "name": "python3"
  },
  "language_info": {
   "codemirror_mode": {
    "name": "ipython",
    "version": 3
   },
   "file_extension": ".py",
   "mimetype": "text/x-python",
   "name": "python",
   "nbconvert_exporter": "python",
   "pygments_lexer": "ipython3",
   "version": "3.11.7"
  }
 },
 "nbformat": 4,
 "nbformat_minor": 5
}
